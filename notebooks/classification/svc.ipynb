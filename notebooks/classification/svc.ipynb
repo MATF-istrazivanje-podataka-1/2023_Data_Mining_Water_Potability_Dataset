{
 "cells": [
  {
   "cell_type": "code",
   "execution_count": 1,
   "outputs": [],
   "source": [
    "# Ucitavanje podataka\n",
    "import pandas as pd\n",
    "data = pd.read_csv('../data/data.csv')"
   ],
   "metadata": {
    "collapsed": false,
    "ExecuteTime": {
     "end_time": "2023-09-14T19:59:03.446896Z",
     "start_time": "2023-09-14T19:59:03.442130Z"
    }
   },
   "id": "b8c4bddb6ab0bd96"
  },
  {
   "cell_type": "code",
   "execution_count": 2,
   "outputs": [
    {
     "data": {
      "text/plain": "   Unnamed: 0         ph    Hardness        Solids  Chloramines     Sulfate  \\\n0           3   8.316766  214.373394  22018.417441     8.059332  356.886136   \n1           4   9.092223  181.101509  17978.986339     6.546600  310.135738   \n2           5   5.584087  188.313324  28748.687739     7.544869  326.678363   \n3           6  10.223862  248.071735  28749.716544     7.513408  393.663396   \n4           7   8.635849  203.361523  13672.091764     4.563009  303.309771   \n\n   Conductivity  Organic_carbon  Trihalomethanes  Turbidity  Potability  \n0    363.266516       18.436524       100.341674   4.628771           1  \n1    398.410813       11.558279        31.997993   4.075075           1  \n2    280.467916        8.399735        54.917862   2.559708           1  \n3    283.651634       13.789695        84.603556   2.672989           1  \n4    474.607645       12.363817        62.798309   4.401425           1  ",
      "text/html": "<div>\n<style scoped>\n    .dataframe tbody tr th:only-of-type {\n        vertical-align: middle;\n    }\n\n    .dataframe tbody tr th {\n        vertical-align: top;\n    }\n\n    .dataframe thead th {\n        text-align: right;\n    }\n</style>\n<table border=\"1\" class=\"dataframe\">\n  <thead>\n    <tr style=\"text-align: right;\">\n      <th></th>\n      <th>Unnamed: 0</th>\n      <th>ph</th>\n      <th>Hardness</th>\n      <th>Solids</th>\n      <th>Chloramines</th>\n      <th>Sulfate</th>\n      <th>Conductivity</th>\n      <th>Organic_carbon</th>\n      <th>Trihalomethanes</th>\n      <th>Turbidity</th>\n      <th>Potability</th>\n    </tr>\n  </thead>\n  <tbody>\n    <tr>\n      <th>0</th>\n      <td>3</td>\n      <td>8.316766</td>\n      <td>214.373394</td>\n      <td>22018.417441</td>\n      <td>8.059332</td>\n      <td>356.886136</td>\n      <td>363.266516</td>\n      <td>18.436524</td>\n      <td>100.341674</td>\n      <td>4.628771</td>\n      <td>1</td>\n    </tr>\n    <tr>\n      <th>1</th>\n      <td>4</td>\n      <td>9.092223</td>\n      <td>181.101509</td>\n      <td>17978.986339</td>\n      <td>6.546600</td>\n      <td>310.135738</td>\n      <td>398.410813</td>\n      <td>11.558279</td>\n      <td>31.997993</td>\n      <td>4.075075</td>\n      <td>1</td>\n    </tr>\n    <tr>\n      <th>2</th>\n      <td>5</td>\n      <td>5.584087</td>\n      <td>188.313324</td>\n      <td>28748.687739</td>\n      <td>7.544869</td>\n      <td>326.678363</td>\n      <td>280.467916</td>\n      <td>8.399735</td>\n      <td>54.917862</td>\n      <td>2.559708</td>\n      <td>1</td>\n    </tr>\n    <tr>\n      <th>3</th>\n      <td>6</td>\n      <td>10.223862</td>\n      <td>248.071735</td>\n      <td>28749.716544</td>\n      <td>7.513408</td>\n      <td>393.663396</td>\n      <td>283.651634</td>\n      <td>13.789695</td>\n      <td>84.603556</td>\n      <td>2.672989</td>\n      <td>1</td>\n    </tr>\n    <tr>\n      <th>4</th>\n      <td>7</td>\n      <td>8.635849</td>\n      <td>203.361523</td>\n      <td>13672.091764</td>\n      <td>4.563009</td>\n      <td>303.309771</td>\n      <td>474.607645</td>\n      <td>12.363817</td>\n      <td>62.798309</td>\n      <td>4.401425</td>\n      <td>1</td>\n    </tr>\n  </tbody>\n</table>\n</div>"
     },
     "execution_count": 2,
     "metadata": {},
     "output_type": "execute_result"
    }
   ],
   "source": [
    "data.head()"
   ],
   "metadata": {
    "collapsed": false,
    "ExecuteTime": {
     "end_time": "2023-09-14T19:59:03.974952Z",
     "start_time": "2023-09-14T19:59:03.969217Z"
    }
   },
   "id": "e19b839d265ee88a"
  },
  {
   "cell_type": "code",
   "execution_count": 3,
   "outputs": [],
   "source": [
    "data.drop('Unnamed: 0', axis=1, inplace=True)"
   ],
   "metadata": {
    "collapsed": false,
    "ExecuteTime": {
     "end_time": "2023-09-14T19:59:16.068144Z",
     "start_time": "2023-09-14T19:59:16.059888Z"
    }
   },
   "id": "9e97b2cc59b6aee5"
  },
  {
   "cell_type": "code",
   "execution_count": 4,
   "outputs": [],
   "source": [
    "X = data.drop('Potability', axis=1)\n",
    "y = pd.Series(data['Potability'])"
   ],
   "metadata": {
    "collapsed": false,
    "ExecuteTime": {
     "end_time": "2023-09-14T19:59:25.816292Z",
     "start_time": "2023-09-14T19:59:25.807729Z"
    }
   },
   "id": "3a495d6a429d6249"
  },
  {
   "cell_type": "code",
   "execution_count": 5,
   "outputs": [
    {
     "data": {
      "text/plain": "          ph    Hardness        Solids  Chloramines     Sulfate  Conductivity  \\\n0   8.316766  214.373394  22018.417441     8.059332  356.886136    363.266516   \n1   9.092223  181.101509  17978.986339     6.546600  310.135738    398.410813   \n2   5.584087  188.313324  28748.687739     7.544869  326.678363    280.467916   \n3  10.223862  248.071735  28749.716544     7.513408  393.663396    283.651634   \n4   8.635849  203.361523  13672.091764     4.563009  303.309771    474.607645   \n\n   Organic_carbon  Trihalomethanes  Turbidity  \n0       18.436524       100.341674   4.628771  \n1       11.558279        31.997993   4.075075  \n2        8.399735        54.917862   2.559708  \n3       13.789695        84.603556   2.672989  \n4       12.363817        62.798309   4.401425  ",
      "text/html": "<div>\n<style scoped>\n    .dataframe tbody tr th:only-of-type {\n        vertical-align: middle;\n    }\n\n    .dataframe tbody tr th {\n        vertical-align: top;\n    }\n\n    .dataframe thead th {\n        text-align: right;\n    }\n</style>\n<table border=\"1\" class=\"dataframe\">\n  <thead>\n    <tr style=\"text-align: right;\">\n      <th></th>\n      <th>ph</th>\n      <th>Hardness</th>\n      <th>Solids</th>\n      <th>Chloramines</th>\n      <th>Sulfate</th>\n      <th>Conductivity</th>\n      <th>Organic_carbon</th>\n      <th>Trihalomethanes</th>\n      <th>Turbidity</th>\n    </tr>\n  </thead>\n  <tbody>\n    <tr>\n      <th>0</th>\n      <td>8.316766</td>\n      <td>214.373394</td>\n      <td>22018.417441</td>\n      <td>8.059332</td>\n      <td>356.886136</td>\n      <td>363.266516</td>\n      <td>18.436524</td>\n      <td>100.341674</td>\n      <td>4.628771</td>\n    </tr>\n    <tr>\n      <th>1</th>\n      <td>9.092223</td>\n      <td>181.101509</td>\n      <td>17978.986339</td>\n      <td>6.546600</td>\n      <td>310.135738</td>\n      <td>398.410813</td>\n      <td>11.558279</td>\n      <td>31.997993</td>\n      <td>4.075075</td>\n    </tr>\n    <tr>\n      <th>2</th>\n      <td>5.584087</td>\n      <td>188.313324</td>\n      <td>28748.687739</td>\n      <td>7.544869</td>\n      <td>326.678363</td>\n      <td>280.467916</td>\n      <td>8.399735</td>\n      <td>54.917862</td>\n      <td>2.559708</td>\n    </tr>\n    <tr>\n      <th>3</th>\n      <td>10.223862</td>\n      <td>248.071735</td>\n      <td>28749.716544</td>\n      <td>7.513408</td>\n      <td>393.663396</td>\n      <td>283.651634</td>\n      <td>13.789695</td>\n      <td>84.603556</td>\n      <td>2.672989</td>\n    </tr>\n    <tr>\n      <th>4</th>\n      <td>8.635849</td>\n      <td>203.361523</td>\n      <td>13672.091764</td>\n      <td>4.563009</td>\n      <td>303.309771</td>\n      <td>474.607645</td>\n      <td>12.363817</td>\n      <td>62.798309</td>\n      <td>4.401425</td>\n    </tr>\n  </tbody>\n</table>\n</div>"
     },
     "execution_count": 5,
     "metadata": {},
     "output_type": "execute_result"
    }
   ],
   "source": [
    "X.head()"
   ],
   "metadata": {
    "collapsed": false,
    "ExecuteTime": {
     "end_time": "2023-09-14T19:59:26.230470Z",
     "start_time": "2023-09-14T19:59:26.226542Z"
    }
   },
   "id": "a8366368fc02876c"
  },
  {
   "cell_type": "code",
   "execution_count": 6,
   "outputs": [
    {
     "data": {
      "text/plain": "Potability\n1    1200\n0     811\nName: count, dtype: int64"
     },
     "execution_count": 6,
     "metadata": {},
     "output_type": "execute_result"
    }
   ],
   "source": [
    "y.value_counts()"
   ],
   "metadata": {
    "collapsed": false,
    "ExecuteTime": {
     "end_time": "2023-09-14T19:59:29.109539Z",
     "start_time": "2023-09-14T19:59:29.101230Z"
    }
   },
   "id": "8742ce1827d28085"
  },
  {
   "cell_type": "code",
   "execution_count": 7,
   "outputs": [],
   "source": [
    "from sklearn.model_selection import train_test_split\n",
    "X_train, X_test, y_train, y_test = train_test_split(X, y, test_size=0.25, stratify=y, random_state=42)"
   ],
   "metadata": {
    "collapsed": false,
    "ExecuteTime": {
     "end_time": "2023-09-14T19:59:36.360881Z",
     "start_time": "2023-09-14T19:59:36.279514Z"
    }
   },
   "id": "93e02bd7f287d292"
  },
  {
   "cell_type": "code",
   "execution_count": 8,
   "outputs": [
    {
     "data": {
      "text/plain": "(1508, 9)"
     },
     "execution_count": 8,
     "metadata": {},
     "output_type": "execute_result"
    }
   ],
   "source": [
    "X_train.shape"
   ],
   "metadata": {
    "collapsed": false,
    "ExecuteTime": {
     "end_time": "2023-09-14T19:59:37.127392Z",
     "start_time": "2023-09-14T19:59:37.112323Z"
    }
   },
   "id": "1b034720681d5a15"
  },
  {
   "cell_type": "code",
   "execution_count": 9,
   "outputs": [
    {
     "data": {
      "text/plain": "(503, 9)"
     },
     "execution_count": 9,
     "metadata": {},
     "output_type": "execute_result"
    }
   ],
   "source": [
    "X_test.shape"
   ],
   "metadata": {
    "collapsed": false,
    "ExecuteTime": {
     "end_time": "2023-09-14T19:59:37.659008Z",
     "start_time": "2023-09-14T19:59:37.655988Z"
    }
   },
   "id": "f2f5816a09600c53"
  },
  {
   "cell_type": "code",
   "execution_count": 10,
   "outputs": [],
   "source": [
    "from sklearn.preprocessing import MinMaxScaler\n",
    "ss = MinMaxScaler()\n",
    "ss.fit(X_train)\n",
    "X_train[X_train.columns] = ss.transform(X_train)\n",
    "X_test[X_test.columns] = ss.transform(X_test)"
   ],
   "metadata": {
    "collapsed": false,
    "ExecuteTime": {
     "end_time": "2023-09-14T19:59:48.440732Z",
     "start_time": "2023-09-14T19:59:48.420765Z"
    }
   },
   "id": "fd7695716ec0a1f6"
  },
  {
   "cell_type": "code",
   "execution_count": 11,
   "outputs": [
    {
     "data": {
      "text/plain": "                ph     Hardness       Solids  Chloramines      Sulfate  \\\ncount  1508.000000  1508.000000  1508.000000  1508.000000  1508.000000   \nmean      0.498454     0.499281     0.374164     0.508599     0.582476   \nstd       0.115045     0.133700     0.157848     0.141322     0.115900   \nmin       0.000000     0.000000     0.000000     0.000000     0.000000   \n25%       0.426855     0.421246     0.257473     0.420821     0.509790   \n50%       0.493665     0.504906     0.357825     0.509674     0.578821   \n75%       0.569897     0.584900     0.471353     0.595413     0.655444   \nmax       1.000000     1.000000     1.000000     1.000000     1.000000   \n\n       Conductivity  Organic_carbon  Trihalomethanes    Turbidity  \ncount   1508.000000     1508.000000      1508.000000  1508.000000  \nmean       0.397517        0.488133         0.474276     0.505002  \nstd        0.146760        0.134124         0.148105     0.157699  \nmin        0.000000        0.000000         0.000000     0.000000  \n25%        0.289508        0.399623         0.377647     0.397926  \n50%        0.392235        0.487911         0.471595     0.507063  \n75%        0.500926        0.582314         0.574674     0.616082  \nmax        1.000000        1.000000         1.000000     1.000000  ",
      "text/html": "<div>\n<style scoped>\n    .dataframe tbody tr th:only-of-type {\n        vertical-align: middle;\n    }\n\n    .dataframe tbody tr th {\n        vertical-align: top;\n    }\n\n    .dataframe thead th {\n        text-align: right;\n    }\n</style>\n<table border=\"1\" class=\"dataframe\">\n  <thead>\n    <tr style=\"text-align: right;\">\n      <th></th>\n      <th>ph</th>\n      <th>Hardness</th>\n      <th>Solids</th>\n      <th>Chloramines</th>\n      <th>Sulfate</th>\n      <th>Conductivity</th>\n      <th>Organic_carbon</th>\n      <th>Trihalomethanes</th>\n      <th>Turbidity</th>\n    </tr>\n  </thead>\n  <tbody>\n    <tr>\n      <th>count</th>\n      <td>1508.000000</td>\n      <td>1508.000000</td>\n      <td>1508.000000</td>\n      <td>1508.000000</td>\n      <td>1508.000000</td>\n      <td>1508.000000</td>\n      <td>1508.000000</td>\n      <td>1508.000000</td>\n      <td>1508.000000</td>\n    </tr>\n    <tr>\n      <th>mean</th>\n      <td>0.498454</td>\n      <td>0.499281</td>\n      <td>0.374164</td>\n      <td>0.508599</td>\n      <td>0.582476</td>\n      <td>0.397517</td>\n      <td>0.488133</td>\n      <td>0.474276</td>\n      <td>0.505002</td>\n    </tr>\n    <tr>\n      <th>std</th>\n      <td>0.115045</td>\n      <td>0.133700</td>\n      <td>0.157848</td>\n      <td>0.141322</td>\n      <td>0.115900</td>\n      <td>0.146760</td>\n      <td>0.134124</td>\n      <td>0.148105</td>\n      <td>0.157699</td>\n    </tr>\n    <tr>\n      <th>min</th>\n      <td>0.000000</td>\n      <td>0.000000</td>\n      <td>0.000000</td>\n      <td>0.000000</td>\n      <td>0.000000</td>\n      <td>0.000000</td>\n      <td>0.000000</td>\n      <td>0.000000</td>\n      <td>0.000000</td>\n    </tr>\n    <tr>\n      <th>25%</th>\n      <td>0.426855</td>\n      <td>0.421246</td>\n      <td>0.257473</td>\n      <td>0.420821</td>\n      <td>0.509790</td>\n      <td>0.289508</td>\n      <td>0.399623</td>\n      <td>0.377647</td>\n      <td>0.397926</td>\n    </tr>\n    <tr>\n      <th>50%</th>\n      <td>0.493665</td>\n      <td>0.504906</td>\n      <td>0.357825</td>\n      <td>0.509674</td>\n      <td>0.578821</td>\n      <td>0.392235</td>\n      <td>0.487911</td>\n      <td>0.471595</td>\n      <td>0.507063</td>\n    </tr>\n    <tr>\n      <th>75%</th>\n      <td>0.569897</td>\n      <td>0.584900</td>\n      <td>0.471353</td>\n      <td>0.595413</td>\n      <td>0.655444</td>\n      <td>0.500926</td>\n      <td>0.582314</td>\n      <td>0.574674</td>\n      <td>0.616082</td>\n    </tr>\n    <tr>\n      <th>max</th>\n      <td>1.000000</td>\n      <td>1.000000</td>\n      <td>1.000000</td>\n      <td>1.000000</td>\n      <td>1.000000</td>\n      <td>1.000000</td>\n      <td>1.000000</td>\n      <td>1.000000</td>\n      <td>1.000000</td>\n    </tr>\n  </tbody>\n</table>\n</div>"
     },
     "execution_count": 11,
     "metadata": {},
     "output_type": "execute_result"
    }
   ],
   "source": [
    "X_train.describe()"
   ],
   "metadata": {
    "collapsed": false,
    "ExecuteTime": {
     "end_time": "2023-09-14T19:59:49.159286Z",
     "start_time": "2023-09-14T19:59:49.146625Z"
    }
   },
   "id": "d82e67d9e91967dc"
  },
  {
   "cell_type": "code",
   "execution_count": 12,
   "outputs": [
    {
     "data": {
      "text/plain": "               ph    Hardness      Solids  Chloramines     Sulfate  \\\ncount  503.000000  503.000000  503.000000   503.000000  503.000000   \nmean     0.496576    0.511219    0.369476     0.514057    0.573109   \nstd      0.111883    0.133974    0.153478     0.138943    0.120277   \nmin      0.111057    0.087434   -0.018698     0.111655    0.145461   \n25%      0.418155    0.430014    0.260445     0.427003    0.496100   \n50%      0.494409    0.512279    0.346827     0.516882    0.572196   \n75%      0.564762    0.589660    0.458992     0.599610    0.653514   \nmax      0.823472    0.873813    0.997510     1.042054    0.987243   \n\n       Conductivity  Organic_carbon  Trihalomethanes   Turbidity  \ncount    503.000000      503.000000       503.000000  503.000000  \nmean       0.400067        0.495987         0.476103    0.508718  \nstd        0.154255        0.133727         0.142183    0.164341  \nmin       -0.016020        0.148022        -0.052584   -0.008619  \n25%        0.286060        0.402378         0.388496    0.398857  \n50%        0.393508        0.491333         0.482771    0.501288  \n75%        0.500841        0.587882         0.572758    0.620630  \nmax        0.916917        0.862843         0.882500    1.021562  ",
      "text/html": "<div>\n<style scoped>\n    .dataframe tbody tr th:only-of-type {\n        vertical-align: middle;\n    }\n\n    .dataframe tbody tr th {\n        vertical-align: top;\n    }\n\n    .dataframe thead th {\n        text-align: right;\n    }\n</style>\n<table border=\"1\" class=\"dataframe\">\n  <thead>\n    <tr style=\"text-align: right;\">\n      <th></th>\n      <th>ph</th>\n      <th>Hardness</th>\n      <th>Solids</th>\n      <th>Chloramines</th>\n      <th>Sulfate</th>\n      <th>Conductivity</th>\n      <th>Organic_carbon</th>\n      <th>Trihalomethanes</th>\n      <th>Turbidity</th>\n    </tr>\n  </thead>\n  <tbody>\n    <tr>\n      <th>count</th>\n      <td>503.000000</td>\n      <td>503.000000</td>\n      <td>503.000000</td>\n      <td>503.000000</td>\n      <td>503.000000</td>\n      <td>503.000000</td>\n      <td>503.000000</td>\n      <td>503.000000</td>\n      <td>503.000000</td>\n    </tr>\n    <tr>\n      <th>mean</th>\n      <td>0.496576</td>\n      <td>0.511219</td>\n      <td>0.369476</td>\n      <td>0.514057</td>\n      <td>0.573109</td>\n      <td>0.400067</td>\n      <td>0.495987</td>\n      <td>0.476103</td>\n      <td>0.508718</td>\n    </tr>\n    <tr>\n      <th>std</th>\n      <td>0.111883</td>\n      <td>0.133974</td>\n      <td>0.153478</td>\n      <td>0.138943</td>\n      <td>0.120277</td>\n      <td>0.154255</td>\n      <td>0.133727</td>\n      <td>0.142183</td>\n      <td>0.164341</td>\n    </tr>\n    <tr>\n      <th>min</th>\n      <td>0.111057</td>\n      <td>0.087434</td>\n      <td>-0.018698</td>\n      <td>0.111655</td>\n      <td>0.145461</td>\n      <td>-0.016020</td>\n      <td>0.148022</td>\n      <td>-0.052584</td>\n      <td>-0.008619</td>\n    </tr>\n    <tr>\n      <th>25%</th>\n      <td>0.418155</td>\n      <td>0.430014</td>\n      <td>0.260445</td>\n      <td>0.427003</td>\n      <td>0.496100</td>\n      <td>0.286060</td>\n      <td>0.402378</td>\n      <td>0.388496</td>\n      <td>0.398857</td>\n    </tr>\n    <tr>\n      <th>50%</th>\n      <td>0.494409</td>\n      <td>0.512279</td>\n      <td>0.346827</td>\n      <td>0.516882</td>\n      <td>0.572196</td>\n      <td>0.393508</td>\n      <td>0.491333</td>\n      <td>0.482771</td>\n      <td>0.501288</td>\n    </tr>\n    <tr>\n      <th>75%</th>\n      <td>0.564762</td>\n      <td>0.589660</td>\n      <td>0.458992</td>\n      <td>0.599610</td>\n      <td>0.653514</td>\n      <td>0.500841</td>\n      <td>0.587882</td>\n      <td>0.572758</td>\n      <td>0.620630</td>\n    </tr>\n    <tr>\n      <th>max</th>\n      <td>0.823472</td>\n      <td>0.873813</td>\n      <td>0.997510</td>\n      <td>1.042054</td>\n      <td>0.987243</td>\n      <td>0.916917</td>\n      <td>0.862843</td>\n      <td>0.882500</td>\n      <td>1.021562</td>\n    </tr>\n  </tbody>\n</table>\n</div>"
     },
     "execution_count": 12,
     "metadata": {},
     "output_type": "execute_result"
    }
   ],
   "source": [
    "X_test.describe()"
   ],
   "metadata": {
    "collapsed": false,
    "ExecuteTime": {
     "end_time": "2023-09-14T19:59:51.967030Z",
     "start_time": "2023-09-14T19:59:51.954121Z"
    }
   },
   "id": "54c7400a3ef0c9be"
  },
  {
   "cell_type": "code",
   "execution_count": 13,
   "outputs": [
    {
     "data": {
      "text/plain": "GridSearchCV(cv=5, estimator=SVC(),\n             param_grid=[{'C': [0.01, 0.1, 1, 10], 'kernel': ['linear']},\n                         {'C': [0.01, 0.1, 1, 10], 'gamma': [0.01, 0.1, 1, 10],\n                          'kernel': ['rbf']}],\n             scoring='accuracy')",
      "text/html": "<style>#sk-container-id-1 {color: black;}#sk-container-id-1 pre{padding: 0;}#sk-container-id-1 div.sk-toggleable {background-color: white;}#sk-container-id-1 label.sk-toggleable__label {cursor: pointer;display: block;width: 100%;margin-bottom: 0;padding: 0.3em;box-sizing: border-box;text-align: center;}#sk-container-id-1 label.sk-toggleable__label-arrow:before {content: \"▸\";float: left;margin-right: 0.25em;color: #696969;}#sk-container-id-1 label.sk-toggleable__label-arrow:hover:before {color: black;}#sk-container-id-1 div.sk-estimator:hover label.sk-toggleable__label-arrow:before {color: black;}#sk-container-id-1 div.sk-toggleable__content {max-height: 0;max-width: 0;overflow: hidden;text-align: left;background-color: #f0f8ff;}#sk-container-id-1 div.sk-toggleable__content pre {margin: 0.2em;color: black;border-radius: 0.25em;background-color: #f0f8ff;}#sk-container-id-1 input.sk-toggleable__control:checked~div.sk-toggleable__content {max-height: 200px;max-width: 100%;overflow: auto;}#sk-container-id-1 input.sk-toggleable__control:checked~label.sk-toggleable__label-arrow:before {content: \"▾\";}#sk-container-id-1 div.sk-estimator input.sk-toggleable__control:checked~label.sk-toggleable__label {background-color: #d4ebff;}#sk-container-id-1 div.sk-label input.sk-toggleable__control:checked~label.sk-toggleable__label {background-color: #d4ebff;}#sk-container-id-1 input.sk-hidden--visually {border: 0;clip: rect(1px 1px 1px 1px);clip: rect(1px, 1px, 1px, 1px);height: 1px;margin: -1px;overflow: hidden;padding: 0;position: absolute;width: 1px;}#sk-container-id-1 div.sk-estimator {font-family: monospace;background-color: #f0f8ff;border: 1px dotted black;border-radius: 0.25em;box-sizing: border-box;margin-bottom: 0.5em;}#sk-container-id-1 div.sk-estimator:hover {background-color: #d4ebff;}#sk-container-id-1 div.sk-parallel-item::after {content: \"\";width: 100%;border-bottom: 1px solid gray;flex-grow: 1;}#sk-container-id-1 div.sk-label:hover label.sk-toggleable__label {background-color: #d4ebff;}#sk-container-id-1 div.sk-serial::before {content: \"\";position: absolute;border-left: 1px solid gray;box-sizing: border-box;top: 0;bottom: 0;left: 50%;z-index: 0;}#sk-container-id-1 div.sk-serial {display: flex;flex-direction: column;align-items: center;background-color: white;padding-right: 0.2em;padding-left: 0.2em;position: relative;}#sk-container-id-1 div.sk-item {position: relative;z-index: 1;}#sk-container-id-1 div.sk-parallel {display: flex;align-items: stretch;justify-content: center;background-color: white;position: relative;}#sk-container-id-1 div.sk-item::before, #sk-container-id-1 div.sk-parallel-item::before {content: \"\";position: absolute;border-left: 1px solid gray;box-sizing: border-box;top: 0;bottom: 0;left: 50%;z-index: -1;}#sk-container-id-1 div.sk-parallel-item {display: flex;flex-direction: column;z-index: 1;position: relative;background-color: white;}#sk-container-id-1 div.sk-parallel-item:first-child::after {align-self: flex-end;width: 50%;}#sk-container-id-1 div.sk-parallel-item:last-child::after {align-self: flex-start;width: 50%;}#sk-container-id-1 div.sk-parallel-item:only-child::after {width: 0;}#sk-container-id-1 div.sk-dashed-wrapped {border: 1px dashed gray;margin: 0 0.4em 0.5em 0.4em;box-sizing: border-box;padding-bottom: 0.4em;background-color: white;}#sk-container-id-1 div.sk-label label {font-family: monospace;font-weight: bold;display: inline-block;line-height: 1.2em;}#sk-container-id-1 div.sk-label-container {text-align: center;}#sk-container-id-1 div.sk-container {/* jupyter's `normalize.less` sets `[hidden] { display: none; }` but bootstrap.min.css set `[hidden] { display: none !important; }` so we also need the `!important` here to be able to override the default hidden behavior on the sphinx rendered scikit-learn.org. See: https://github.com/scikit-learn/scikit-learn/issues/21755 */display: inline-block !important;position: relative;}#sk-container-id-1 div.sk-text-repr-fallback {display: none;}</style><div id=\"sk-container-id-1\" class=\"sk-top-container\"><div class=\"sk-text-repr-fallback\"><pre>GridSearchCV(cv=5, estimator=SVC(),\n             param_grid=[{&#x27;C&#x27;: [0.01, 0.1, 1, 10], &#x27;kernel&#x27;: [&#x27;linear&#x27;]},\n                         {&#x27;C&#x27;: [0.01, 0.1, 1, 10], &#x27;gamma&#x27;: [0.01, 0.1, 1, 10],\n                          &#x27;kernel&#x27;: [&#x27;rbf&#x27;]}],\n             scoring=&#x27;accuracy&#x27;)</pre><b>In a Jupyter environment, please rerun this cell to show the HTML representation or trust the notebook. <br />On GitHub, the HTML representation is unable to render, please try loading this page with nbviewer.org.</b></div><div class=\"sk-container\" hidden><div class=\"sk-item sk-dashed-wrapped\"><div class=\"sk-label-container\"><div class=\"sk-label sk-toggleable\"><input class=\"sk-toggleable__control sk-hidden--visually\" id=\"sk-estimator-id-1\" type=\"checkbox\" ><label for=\"sk-estimator-id-1\" class=\"sk-toggleable__label sk-toggleable__label-arrow\">GridSearchCV</label><div class=\"sk-toggleable__content\"><pre>GridSearchCV(cv=5, estimator=SVC(),\n             param_grid=[{&#x27;C&#x27;: [0.01, 0.1, 1, 10], &#x27;kernel&#x27;: [&#x27;linear&#x27;]},\n                         {&#x27;C&#x27;: [0.01, 0.1, 1, 10], &#x27;gamma&#x27;: [0.01, 0.1, 1, 10],\n                          &#x27;kernel&#x27;: [&#x27;rbf&#x27;]}],\n             scoring=&#x27;accuracy&#x27;)</pre></div></div></div><div class=\"sk-parallel\"><div class=\"sk-parallel-item\"><div class=\"sk-item\"><div class=\"sk-label-container\"><div class=\"sk-label sk-toggleable\"><input class=\"sk-toggleable__control sk-hidden--visually\" id=\"sk-estimator-id-2\" type=\"checkbox\" ><label for=\"sk-estimator-id-2\" class=\"sk-toggleable__label sk-toggleable__label-arrow\">estimator: SVC</label><div class=\"sk-toggleable__content\"><pre>SVC()</pre></div></div></div><div class=\"sk-serial\"><div class=\"sk-item\"><div class=\"sk-estimator sk-toggleable\"><input class=\"sk-toggleable__control sk-hidden--visually\" id=\"sk-estimator-id-3\" type=\"checkbox\" ><label for=\"sk-estimator-id-3\" class=\"sk-toggleable__label sk-toggleable__label-arrow\">SVC</label><div class=\"sk-toggleable__content\"><pre>SVC()</pre></div></div></div></div></div></div></div></div></div></div>"
     },
     "execution_count": 13,
     "metadata": {},
     "output_type": "execute_result"
    }
   ],
   "source": [
    "from sklearn.svm import SVC\n",
    "from sklearn.model_selection import GridSearchCV\n",
    "\n",
    "params = [\n",
    "    {\n",
    "        'kernel': ['linear'],\n",
    "        'C': [0.01, 0.1, 1, 10],\n",
    "    },\n",
    "    {\n",
    "        'kernel': ['rbf'],\n",
    "        'C': [0.01, 0.1, 1, 10],\n",
    "        'gamma': [0.01, 0.1, 1, 10],\n",
    "    },\n",
    "]\n",
    "\n",
    "gs = GridSearchCV(SVC(), params, scoring='accuracy', cv=5)\n",
    "gs.fit(X_train, y_train)"
   ],
   "metadata": {
    "collapsed": false,
    "ExecuteTime": {
     "end_time": "2023-09-14T20:00:02.225535Z",
     "start_time": "2023-09-14T19:59:59.655315Z"
    }
   },
   "id": "a63b5de785818270"
  },
  {
   "cell_type": "code",
   "execution_count": 14,
   "outputs": [
    {
     "data": {
      "text/plain": "{'C': 10, 'gamma': 1, 'kernel': 'rbf'}"
     },
     "execution_count": 14,
     "metadata": {},
     "output_type": "execute_result"
    }
   ],
   "source": [
    "gs.best_params_"
   ],
   "metadata": {
    "collapsed": false,
    "ExecuteTime": {
     "end_time": "2023-09-14T20:00:04.534378Z",
     "start_time": "2023-09-14T20:00:04.528446Z"
    }
   },
   "id": "3fcdfc5c2a0a0362"
  },
  {
   "cell_type": "code",
   "execution_count": 15,
   "outputs": [
    {
     "data": {
      "text/plain": "0.6637675738707619"
     },
     "execution_count": 15,
     "metadata": {},
     "output_type": "execute_result"
    }
   ],
   "source": [
    "gs.best_score_"
   ],
   "metadata": {
    "collapsed": false,
    "ExecuteTime": {
     "end_time": "2023-09-14T20:00:09.061513Z",
     "start_time": "2023-09-14T20:00:09.058287Z"
    }
   },
   "id": "a42eefacf67147fc"
  },
  {
   "cell_type": "code",
   "execution_count": 16,
   "outputs": [],
   "source": [
    "y_gs = gs.predict(X_test)"
   ],
   "metadata": {
    "collapsed": false,
    "ExecuteTime": {
     "end_time": "2023-09-14T20:00:10.064264Z",
     "start_time": "2023-09-14T20:00:10.039847Z"
    }
   },
   "id": "abf66187a2c01ed8"
  },
  {
   "cell_type": "code",
   "execution_count": 17,
   "outputs": [
    {
     "name": "stdout",
     "output_type": "stream",
     "text": [
      "Tačnost: 0.6699801192842942\n",
      "Izvestaj:\n",
      "              precision    recall  f1-score   support\n",
      "\n",
      "           0       0.77      0.26      0.39       203\n",
      "           1       0.65      0.95      0.77       300\n",
      "\n",
      "    accuracy                           0.67       503\n",
      "   macro avg       0.71      0.60      0.58       503\n",
      "weighted avg       0.70      0.67      0.62       503\n",
      "\n",
      "Matrica konfuzije:\n",
      "    0    1\n",
      "0  53  150\n",
      "1  16  284\n"
     ]
    }
   ],
   "source": [
    "from helpers import report\n",
    "\n",
    "report(y_test, y_gs)"
   ],
   "metadata": {
    "collapsed": false,
    "ExecuteTime": {
     "end_time": "2023-09-14T20:00:12.680663Z",
     "start_time": "2023-09-14T20:00:12.652910Z"
    }
   },
   "id": "423265630ab77a16"
  },
  {
   "cell_type": "code",
   "execution_count": 18,
   "outputs": [],
   "source": [
    "# Cuvamo model\n",
    "from helpers import save_model\n",
    "\n",
    "save_model(gs, '../../models/svc_gscv.pkl')"
   ],
   "metadata": {
    "collapsed": false,
    "ExecuteTime": {
     "end_time": "2023-09-14T20:00:42.346977Z",
     "start_time": "2023-09-14T20:00:42.333047Z"
    }
   },
   "id": "6450e4f4ea918588"
  },
  {
   "cell_type": "code",
   "execution_count": null,
   "outputs": [],
   "source": [],
   "metadata": {
    "collapsed": false
   },
   "id": "a476943570342818"
  }
 ],
 "metadata": {
  "kernelspec": {
   "display_name": "Python 3",
   "language": "python",
   "name": "python3"
  },
  "language_info": {
   "codemirror_mode": {
    "name": "ipython",
    "version": 2
   },
   "file_extension": ".py",
   "mimetype": "text/x-python",
   "name": "python",
   "nbconvert_exporter": "python",
   "pygments_lexer": "ipython2",
   "version": "2.7.6"
  }
 },
 "nbformat": 4,
 "nbformat_minor": 5
}
