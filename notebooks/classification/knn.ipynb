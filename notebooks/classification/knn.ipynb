{
 "cells": [
  {
   "cell_type": "markdown",
   "source": [
    "# Klasifikacija korišćenjem K najbližih suseda"
   ],
   "metadata": {
    "collapsed": false
   },
   "id": "f4ed958475dae9b3"
  },
  {
   "cell_type": "code",
   "execution_count": 1,
   "outputs": [],
   "source": [
    "# Ucitavanje preprocesiranih podataka\n",
    "import pandas as pd\n",
    "X_train = pd.read_csv('./data/X_train_scaled.csv')\n",
    "X_test = pd.read_csv('./data/X_test_scaled.csv')\n",
    "y_train = pd.read_csv('./data/y_train_scaled.csv')\n",
    "y_test = pd.read_csv('./data/y_test_scaled.csv')"
   ],
   "metadata": {
    "collapsed": false,
    "ExecuteTime": {
     "end_time": "2023-08-29T17:11:39.930422Z",
     "start_time": "2023-08-29T17:11:39.925129Z"
    }
   },
   "id": "2cee947a46e6041d"
  },
  {
   "cell_type": "code",
   "execution_count": 5,
   "outputs": [],
   "source": [
    "# TODO: obraditi autlajere\n",
    "from sklearn.neighbors import KNeighborsClassifier\n",
    "import numpy as np\n",
    "knn = KNeighborsClassifier()\n",
    "knn.fit(X_train, np.ravel(y_train))\n",
    "y_knn = knn.predict(X_test)"
   ],
   "metadata": {
    "collapsed": false,
    "ExecuteTime": {
     "end_time": "2023-08-29T17:14:33.615143Z",
     "start_time": "2023-08-29T17:14:33.593819Z"
    }
   },
   "id": "e124a7a967bc8508"
  },
  {
   "cell_type": "code",
   "execution_count": 6,
   "outputs": [
    {
     "name": "stdout",
     "output_type": "stream",
     "text": [
      "Tačnost: 0.6341059602649006\n",
      "Izvestaj:\n",
      "              precision    recall  f1-score   support\n",
      "\n",
      "           0       0.67      0.77      0.71       360\n",
      "           1       0.56      0.44      0.49       244\n",
      "\n",
      "    accuracy                           0.63       604\n",
      "   macro avg       0.61      0.60      0.60       604\n",
      "weighted avg       0.62      0.63      0.62       604\n",
      "\n",
      "Matrica konfuzije:\n",
      "     0    1\n",
      "0  276   84\n",
      "1  137  107\n"
     ]
    }
   ],
   "source": [
    "from helpers import report\n",
    "report(y_test, y_knn)"
   ],
   "metadata": {
    "collapsed": false,
    "ExecuteTime": {
     "end_time": "2023-08-29T17:14:42.869248Z",
     "start_time": "2023-08-29T17:14:42.860560Z"
    }
   },
   "id": "b06e3363a98d15a2"
  },
  {
   "cell_type": "code",
   "execution_count": 9,
   "outputs": [
    {
     "name": "stdout",
     "output_type": "stream",
     "text": [
      "Fitting 6 folds for each of 32 candidates, totalling 192 fits\n",
      "[CV 1/6] END n_neighbors=10, p=1, weights=uniform;, score=0.651 total time=   0.0s\n",
      "[CV 2/6] END n_neighbors=10, p=1, weights=uniform;, score=0.617 total time=   0.0s\n",
      "[CV 3/6] END n_neighbors=10, p=1, weights=uniform;, score=0.651 total time=   0.0s\n",
      "[CV 4/6] END n_neighbors=10, p=1, weights=uniform;, score=0.624 total time=   0.0s\n",
      "[CV 5/6] END n_neighbors=10, p=1, weights=uniform;, score=0.667 total time=   0.0s\n",
      "[CV 6/6] END n_neighbors=10, p=1, weights=uniform;, score=0.611 total time=   0.0s\n",
      "[CV 1/6] END n_neighbors=10, p=1, weights=distance;, score=0.660 total time=   0.0s\n",
      "[CV 2/6] END n_neighbors=10, p=1, weights=distance;, score=0.621 total time=   0.0s\n",
      "[CV 3/6] END n_neighbors=10, p=1, weights=distance;, score=0.664 total time=   0.0s\n",
      "[CV 4/6] END n_neighbors=10, p=1, weights=distance;, score=0.628 total time=   0.0s\n",
      "[CV 5/6] END n_neighbors=10, p=1, weights=distance;, score=0.667 total time=   0.0s\n",
      "[CV 6/6] END n_neighbors=10, p=1, weights=distance;, score=0.628 total time=   0.0s\n",
      "[CV 1/6] END n_neighbors=10, p=2, weights=uniform;, score=0.647 total time=   0.0s\n",
      "[CV 2/6] END n_neighbors=10, p=2, weights=uniform;, score=0.638 total time=   0.0s\n",
      "[CV 3/6] END n_neighbors=10, p=2, weights=uniform;, score=0.668 total time=   0.0s\n",
      "[CV 4/6] END n_neighbors=10, p=2, weights=uniform;, score=0.611 total time=   0.0s\n",
      "[CV 5/6] END n_neighbors=10, p=2, weights=uniform;, score=0.650 total time=   0.0s\n",
      "[CV 6/6] END n_neighbors=10, p=2, weights=uniform;, score=0.628 total time=   0.0s\n",
      "[CV 1/6] END n_neighbors=10, p=2, weights=distance;, score=0.621 total time=   0.0s\n",
      "[CV 2/6] END n_neighbors=10, p=2, weights=distance;, score=0.647 total time=   0.0s\n",
      "[CV 3/6] END n_neighbors=10, p=2, weights=distance;, score=0.681 total time=   0.0s\n",
      "[CV 4/6] END n_neighbors=10, p=2, weights=distance;, score=0.611 total time=   0.0s\n",
      "[CV 5/6] END n_neighbors=10, p=2, weights=distance;, score=0.641 total time=   0.0s\n",
      "[CV 6/6] END n_neighbors=10, p=2, weights=distance;, score=0.650 total time=   0.0s\n",
      "[CV 1/6] END n_neighbors=15, p=1, weights=uniform;, score=0.651 total time=   0.0s\n",
      "[CV 2/6] END n_neighbors=15, p=1, weights=uniform;, score=0.621 total time=   0.0s\n",
      "[CV 3/6] END n_neighbors=15, p=1, weights=uniform;, score=0.647 total time=   0.0s\n",
      "[CV 4/6] END n_neighbors=15, p=1, weights=uniform;, score=0.611 total time=   0.0s\n",
      "[CV 5/6] END n_neighbors=15, p=1, weights=uniform;, score=0.645 total time=   0.0s\n",
      "[CV 6/6] END n_neighbors=15, p=1, weights=uniform;, score=0.650 total time=   0.0s\n",
      "[CV 1/6] END n_neighbors=15, p=1, weights=distance;, score=0.643 total time=   0.0s\n",
      "[CV 2/6] END n_neighbors=15, p=1, weights=distance;, score=0.630 total time=   0.0s\n",
      "[CV 3/6] END n_neighbors=15, p=1, weights=distance;, score=0.647 total time=   0.0s\n",
      "[CV 4/6] END n_neighbors=15, p=1, weights=distance;, score=0.603 total time=   0.0s\n",
      "[CV 5/6] END n_neighbors=15, p=1, weights=distance;, score=0.654 total time=   0.0s\n",
      "[CV 6/6] END n_neighbors=15, p=1, weights=distance;, score=0.654 total time=   0.0s\n",
      "[CV 1/6] END n_neighbors=15, p=2, weights=uniform;, score=0.651 total time=   0.0s\n",
      "[CV 2/6] END n_neighbors=15, p=2, weights=uniform;, score=0.617 total time=   0.0s\n",
      "[CV 3/6] END n_neighbors=15, p=2, weights=uniform;, score=0.660 total time=   0.0s\n",
      "[CV 4/6] END n_neighbors=15, p=2, weights=uniform;, score=0.654 total time=   0.0s\n",
      "[CV 5/6] END n_neighbors=15, p=2, weights=uniform;, score=0.667 total time=   0.0s\n",
      "[CV 6/6] END n_neighbors=15, p=2, weights=uniform;, score=0.641 total time=   0.0s\n",
      "[CV 1/6] END n_neighbors=15, p=2, weights=distance;, score=0.651 total time=   0.0s\n",
      "[CV 2/6] END n_neighbors=15, p=2, weights=distance;, score=0.604 total time=   0.0s\n",
      "[CV 3/6] END n_neighbors=15, p=2, weights=distance;, score=0.660 total time=   0.0s\n",
      "[CV 4/6] END n_neighbors=15, p=2, weights=distance;, score=0.645 total time=   0.0s\n",
      "[CV 5/6] END n_neighbors=15, p=2, weights=distance;, score=0.662 total time=   0.0s\n",
      "[CV 6/6] END n_neighbors=15, p=2, weights=distance;, score=0.637 total time=   0.0s\n",
      "[CV 1/6] END n_neighbors=20, p=1, weights=uniform;, score=0.630 total time=   0.0s\n",
      "[CV 2/6] END n_neighbors=20, p=1, weights=uniform;, score=0.634 total time=   0.0s\n",
      "[CV 3/6] END n_neighbors=20, p=1, weights=uniform;, score=0.643 total time=   0.0s\n",
      "[CV 4/6] END n_neighbors=20, p=1, weights=uniform;, score=0.624 total time=   0.0s\n",
      "[CV 5/6] END n_neighbors=20, p=1, weights=uniform;, score=0.688 total time=   0.0s\n",
      "[CV 6/6] END n_neighbors=20, p=1, weights=uniform;, score=0.624 total time=   0.0s\n",
      "[CV 1/6] END n_neighbors=20, p=1, weights=distance;, score=0.668 total time=   0.0s\n",
      "[CV 2/6] END n_neighbors=20, p=1, weights=distance;, score=0.634 total time=   0.0s\n",
      "[CV 3/6] END n_neighbors=20, p=1, weights=distance;, score=0.655 total time=   0.0s\n",
      "[CV 4/6] END n_neighbors=20, p=1, weights=distance;, score=0.615 total time=   0.0s\n",
      "[CV 5/6] END n_neighbors=20, p=1, weights=distance;, score=0.714 total time=   0.0s\n",
      "[CV 6/6] END n_neighbors=20, p=1, weights=distance;, score=0.654 total time=   0.0s\n",
      "[CV 1/6] END n_neighbors=20, p=2, weights=uniform;, score=0.647 total time=   0.0s\n",
      "[CV 2/6] END n_neighbors=20, p=2, weights=uniform;, score=0.626 total time=   0.0s\n",
      "[CV 3/6] END n_neighbors=20, p=2, weights=uniform;, score=0.638 total time=   0.0s\n",
      "[CV 4/6] END n_neighbors=20, p=2, weights=uniform;, score=0.637 total time=   0.0s\n",
      "[CV 5/6] END n_neighbors=20, p=2, weights=uniform;, score=0.675 total time=   0.0s\n",
      "[CV 6/6] END n_neighbors=20, p=2, weights=uniform;, score=0.615 total time=   0.0s\n",
      "[CV 1/6] END n_neighbors=20, p=2, weights=distance;, score=0.664 total time=   0.0s\n",
      "[CV 2/6] END n_neighbors=20, p=2, weights=distance;, score=0.626 total time=   0.0s\n",
      "[CV 3/6] END n_neighbors=20, p=2, weights=distance;, score=0.664 total time=   0.0s\n",
      "[CV 4/6] END n_neighbors=20, p=2, weights=distance;, score=0.662 total time=   0.0s\n",
      "[CV 5/6] END n_neighbors=20, p=2, weights=distance;, score=0.662 total time=   0.0s\n",
      "[CV 6/6] END n_neighbors=20, p=2, weights=distance;, score=0.620 total time=   0.0s\n",
      "[CV 1/6] END n_neighbors=25, p=1, weights=uniform;, score=0.621 total time=   0.0s\n",
      "[CV 2/6] END n_neighbors=25, p=1, weights=uniform;, score=0.634 total time=   0.0s\n",
      "[CV 3/6] END n_neighbors=25, p=1, weights=uniform;, score=0.660 total time=   0.0s\n",
      "[CV 4/6] END n_neighbors=25, p=1, weights=uniform;, score=0.607 total time=   0.0s\n",
      "[CV 5/6] END n_neighbors=25, p=1, weights=uniform;, score=0.684 total time=   0.0s\n",
      "[CV 6/6] END n_neighbors=25, p=1, weights=uniform;, score=0.641 total time=   0.0s\n",
      "[CV 1/6] END n_neighbors=25, p=1, weights=distance;, score=0.617 total time=   0.0s\n",
      "[CV 2/6] END n_neighbors=25, p=1, weights=distance;, score=0.626 total time=   0.0s\n",
      "[CV 3/6] END n_neighbors=25, p=1, weights=distance;, score=0.664 total time=   0.0s\n",
      "[CV 4/6] END n_neighbors=25, p=1, weights=distance;, score=0.611 total time=   0.0s\n",
      "[CV 5/6] END n_neighbors=25, p=1, weights=distance;, score=0.688 total time=   0.0s\n",
      "[CV 6/6] END n_neighbors=25, p=1, weights=distance;, score=0.645 total time=   0.0s\n",
      "[CV 1/6] END n_neighbors=25, p=2, weights=uniform;, score=0.643 total time=   0.0s\n",
      "[CV 2/6] END n_neighbors=25, p=2, weights=uniform;, score=0.634 total time=   0.0s\n",
      "[CV 3/6] END n_neighbors=25, p=2, weights=uniform;, score=0.655 total time=   0.0s\n",
      "[CV 4/6] END n_neighbors=25, p=2, weights=uniform;, score=0.641 total time=   0.0s\n",
      "[CV 5/6] END n_neighbors=25, p=2, weights=uniform;, score=0.645 total time=   0.0s\n",
      "[CV 6/6] END n_neighbors=25, p=2, weights=uniform;, score=0.645 total time=   0.0s\n",
      "[CV 1/6] END n_neighbors=25, p=2, weights=distance;, score=0.643 total time=   0.0s\n",
      "[CV 2/6] END n_neighbors=25, p=2, weights=distance;, score=0.630 total time=   0.0s\n",
      "[CV 3/6] END n_neighbors=25, p=2, weights=distance;, score=0.660 total time=   0.0s\n",
      "[CV 4/6] END n_neighbors=25, p=2, weights=distance;, score=0.637 total time=   0.0s\n",
      "[CV 5/6] END n_neighbors=25, p=2, weights=distance;, score=0.645 total time=   0.0s\n",
      "[CV 6/6] END n_neighbors=25, p=2, weights=distance;, score=0.645 total time=   0.0s\n",
      "[CV 1/6] END n_neighbors=30, p=1, weights=uniform;, score=0.626 total time=   0.0s\n",
      "[CV 2/6] END n_neighbors=30, p=1, weights=uniform;, score=0.626 total time=   0.0s\n",
      "[CV 3/6] END n_neighbors=30, p=1, weights=uniform;, score=0.634 total time=   0.0s\n",
      "[CV 4/6] END n_neighbors=30, p=1, weights=uniform;, score=0.620 total time=   0.0s\n",
      "[CV 5/6] END n_neighbors=30, p=1, weights=uniform;, score=0.671 total time=   0.0s\n",
      "[CV 6/6] END n_neighbors=30, p=1, weights=uniform;, score=0.654 total time=   0.0s\n",
      "[CV 1/6] END n_neighbors=30, p=1, weights=distance;, score=0.651 total time=   0.0s\n",
      "[CV 2/6] END n_neighbors=30, p=1, weights=distance;, score=0.647 total time=   0.0s\n",
      "[CV 3/6] END n_neighbors=30, p=1, weights=distance;, score=0.647 total time=   0.0s\n",
      "[CV 4/6] END n_neighbors=30, p=1, weights=distance;, score=0.624 total time=   0.0s\n",
      "[CV 5/6] END n_neighbors=30, p=1, weights=distance;, score=0.684 total time=   0.0s\n",
      "[CV 6/6] END n_neighbors=30, p=1, weights=distance;, score=0.658 total time=   0.0s\n",
      "[CV 1/6] END n_neighbors=30, p=2, weights=uniform;, score=0.634 total time=   0.0s\n",
      "[CV 2/6] END n_neighbors=30, p=2, weights=uniform;, score=0.634 total time=   0.0s\n",
      "[CV 3/6] END n_neighbors=30, p=2, weights=uniform;, score=0.638 total time=   0.0s\n",
      "[CV 4/6] END n_neighbors=30, p=2, weights=uniform;, score=0.662 total time=   0.0s\n",
      "[CV 5/6] END n_neighbors=30, p=2, weights=uniform;, score=0.671 total time=   0.0s\n",
      "[CV 6/6] END n_neighbors=30, p=2, weights=uniform;, score=0.637 total time=   0.0s\n",
      "[CV 1/6] END n_neighbors=30, p=2, weights=distance;, score=0.647 total time=   0.0s\n",
      "[CV 2/6] END n_neighbors=30, p=2, weights=distance;, score=0.655 total time=   0.0s\n",
      "[CV 3/6] END n_neighbors=30, p=2, weights=distance;, score=0.651 total time=   0.0s\n",
      "[CV 4/6] END n_neighbors=30, p=2, weights=distance;, score=0.667 total time=   0.0s\n",
      "[CV 5/6] END n_neighbors=30, p=2, weights=distance;, score=0.662 total time=   0.0s\n",
      "[CV 6/6] END n_neighbors=30, p=2, weights=distance;, score=0.650 total time=   0.0s\n",
      "[CV 1/6] END n_neighbors=35, p=1, weights=uniform;, score=0.643 total time=   0.0s\n",
      "[CV 2/6] END n_neighbors=35, p=1, weights=uniform;, score=0.660 total time=   0.0s\n",
      "[CV 3/6] END n_neighbors=35, p=1, weights=uniform;, score=0.630 total time=   0.0s\n",
      "[CV 4/6] END n_neighbors=35, p=1, weights=uniform;, score=0.615 total time=   0.0s\n",
      "[CV 5/6] END n_neighbors=35, p=1, weights=uniform;, score=0.667 total time=   0.0s\n",
      "[CV 6/6] END n_neighbors=35, p=1, weights=uniform;, score=0.645 total time=   0.0s\n",
      "[CV 1/6] END n_neighbors=35, p=1, weights=distance;, score=0.634 total time=   0.0s\n",
      "[CV 2/6] END n_neighbors=35, p=1, weights=distance;, score=0.660 total time=   0.0s\n",
      "[CV 3/6] END n_neighbors=35, p=1, weights=distance;, score=0.643 total time=   0.0s\n",
      "[CV 4/6] END n_neighbors=35, p=1, weights=distance;, score=0.628 total time=   0.0s\n",
      "[CV 5/6] END n_neighbors=35, p=1, weights=distance;, score=0.671 total time=   0.0s\n",
      "[CV 6/6] END n_neighbors=35, p=1, weights=distance;, score=0.650 total time=   0.0s\n",
      "[CV 1/6] END n_neighbors=35, p=2, weights=uniform;, score=0.638 total time=   0.0s\n",
      "[CV 2/6] END n_neighbors=35, p=2, weights=uniform;, score=0.630 total time=   0.0s\n",
      "[CV 3/6] END n_neighbors=35, p=2, weights=uniform;, score=0.634 total time=   0.0s\n",
      "[CV 4/6] END n_neighbors=35, p=2, weights=uniform;, score=0.667 total time=   0.0s\n",
      "[CV 5/6] END n_neighbors=35, p=2, weights=uniform;, score=0.684 total time=   0.0s\n",
      "[CV 6/6] END n_neighbors=35, p=2, weights=uniform;, score=0.645 total time=   0.0s\n",
      "[CV 1/6] END n_neighbors=35, p=2, weights=distance;, score=0.643 total time=   0.0s\n",
      "[CV 2/6] END n_neighbors=35, p=2, weights=distance;, score=0.630 total time=   0.0s\n",
      "[CV 3/6] END n_neighbors=35, p=2, weights=distance;, score=0.638 total time=   0.0s\n",
      "[CV 4/6] END n_neighbors=35, p=2, weights=distance;, score=0.671 total time=   0.0s\n",
      "[CV 5/6] END n_neighbors=35, p=2, weights=distance;, score=0.679 total time=   0.0s\n",
      "[CV 6/6] END n_neighbors=35, p=2, weights=distance;, score=0.654 total time=   0.0s\n",
      "[CV 1/6] END n_neighbors=40, p=1, weights=uniform;, score=0.643 total time=   0.0s\n",
      "[CV 2/6] END n_neighbors=40, p=1, weights=uniform;, score=0.630 total time=   0.0s\n",
      "[CV 3/6] END n_neighbors=40, p=1, weights=uniform;, score=0.621 total time=   0.0s\n",
      "[CV 4/6] END n_neighbors=40, p=1, weights=uniform;, score=0.603 total time=   0.0s\n",
      "[CV 5/6] END n_neighbors=40, p=1, weights=uniform;, score=0.662 total time=   0.0s\n",
      "[CV 6/6] END n_neighbors=40, p=1, weights=uniform;, score=0.650 total time=   0.0s\n",
      "[CV 1/6] END n_neighbors=40, p=1, weights=distance;, score=0.660 total time=   0.0s\n",
      "[CV 2/6] END n_neighbors=40, p=1, weights=distance;, score=0.647 total time=   0.0s\n",
      "[CV 3/6] END n_neighbors=40, p=1, weights=distance;, score=0.621 total time=   0.0s\n",
      "[CV 4/6] END n_neighbors=40, p=1, weights=distance;, score=0.624 total time=   0.0s\n",
      "[CV 5/6] END n_neighbors=40, p=1, weights=distance;, score=0.688 total time=   0.0s\n",
      "[CV 6/6] END n_neighbors=40, p=1, weights=distance;, score=0.650 total time=   0.0s\n",
      "[CV 1/6] END n_neighbors=40, p=2, weights=uniform;, score=0.617 total time=   0.0s\n",
      "[CV 2/6] END n_neighbors=40, p=2, weights=uniform;, score=0.634 total time=   0.0s\n",
      "[CV 3/6] END n_neighbors=40, p=2, weights=uniform;, score=0.660 total time=   0.0s\n",
      "[CV 4/6] END n_neighbors=40, p=2, weights=uniform;, score=0.645 total time=   0.0s\n",
      "[CV 5/6] END n_neighbors=40, p=2, weights=uniform;, score=0.671 total time=   0.0s\n",
      "[CV 6/6] END n_neighbors=40, p=2, weights=uniform;, score=0.641 total time=   0.0s\n",
      "[CV 1/6] END n_neighbors=40, p=2, weights=distance;, score=0.638 total time=   0.0s\n",
      "[CV 2/6] END n_neighbors=40, p=2, weights=distance;, score=0.634 total time=   0.0s\n",
      "[CV 3/6] END n_neighbors=40, p=2, weights=distance;, score=0.647 total time=   0.0s\n",
      "[CV 4/6] END n_neighbors=40, p=2, weights=distance;, score=0.658 total time=   0.0s\n",
      "[CV 5/6] END n_neighbors=40, p=2, weights=distance;, score=0.675 total time=   0.0s\n",
      "[CV 6/6] END n_neighbors=40, p=2, weights=distance;, score=0.637 total time=   0.0s\n",
      "[CV 1/6] END n_neighbors=45, p=1, weights=uniform;, score=0.626 total time=   0.0s\n",
      "[CV 2/6] END n_neighbors=45, p=1, weights=uniform;, score=0.621 total time=   0.0s\n",
      "[CV 3/6] END n_neighbors=45, p=1, weights=uniform;, score=0.621 total time=   0.0s\n",
      "[CV 4/6] END n_neighbors=45, p=1, weights=uniform;, score=0.611 total time=   0.0s\n",
      "[CV 5/6] END n_neighbors=45, p=1, weights=uniform;, score=0.688 total time=   0.0s\n",
      "[CV 6/6] END n_neighbors=45, p=1, weights=uniform;, score=0.650 total time=   0.0s\n",
      "[CV 1/6] END n_neighbors=45, p=1, weights=distance;, score=0.626 total time=   0.0s\n",
      "[CV 2/6] END n_neighbors=45, p=1, weights=distance;, score=0.630 total time=   0.0s\n",
      "[CV 3/6] END n_neighbors=45, p=1, weights=distance;, score=0.634 total time=   0.0s\n",
      "[CV 4/6] END n_neighbors=45, p=1, weights=distance;, score=0.615 total time=   0.0s\n",
      "[CV 5/6] END n_neighbors=45, p=1, weights=distance;, score=0.688 total time=   0.0s\n",
      "[CV 6/6] END n_neighbors=45, p=1, weights=distance;, score=0.637 total time=   0.0s\n",
      "[CV 1/6] END n_neighbors=45, p=2, weights=uniform;, score=0.634 total time=   0.0s\n",
      "[CV 2/6] END n_neighbors=45, p=2, weights=uniform;, score=0.626 total time=   0.0s\n",
      "[CV 3/6] END n_neighbors=45, p=2, weights=uniform;, score=0.664 total time=   0.0s\n",
      "[CV 4/6] END n_neighbors=45, p=2, weights=uniform;, score=0.658 total time=   0.0s\n",
      "[CV 5/6] END n_neighbors=45, p=2, weights=uniform;, score=0.658 total time=   0.0s\n",
      "[CV 6/6] END n_neighbors=45, p=2, weights=uniform;, score=0.632 total time=   0.0s\n",
      "[CV 1/6] END n_neighbors=45, p=2, weights=distance;, score=0.638 total time=   0.0s\n",
      "[CV 2/6] END n_neighbors=45, p=2, weights=distance;, score=0.638 total time=   0.0s\n",
      "[CV 3/6] END n_neighbors=45, p=2, weights=distance;, score=0.660 total time=   0.0s\n",
      "[CV 4/6] END n_neighbors=45, p=2, weights=distance;, score=0.671 total time=   0.0s\n",
      "[CV 5/6] END n_neighbors=45, p=2, weights=distance;, score=0.662 total time=   0.0s\n",
      "[CV 6/6] END n_neighbors=45, p=2, weights=distance;, score=0.632 total time=   0.0s\n"
     ]
    },
    {
     "data": {
      "text/plain": "GridSearchCV(cv=6, estimator=KNeighborsClassifier(),\n             param_grid={'n_neighbors': range(10, 50, 5), 'p': [1, 2],\n                         'weights': ['uniform', 'distance']},\n             verbose=4)",
      "text/html": "<style>#sk-container-id-4 {color: black;}#sk-container-id-4 pre{padding: 0;}#sk-container-id-4 div.sk-toggleable {background-color: white;}#sk-container-id-4 label.sk-toggleable__label {cursor: pointer;display: block;width: 100%;margin-bottom: 0;padding: 0.3em;box-sizing: border-box;text-align: center;}#sk-container-id-4 label.sk-toggleable__label-arrow:before {content: \"▸\";float: left;margin-right: 0.25em;color: #696969;}#sk-container-id-4 label.sk-toggleable__label-arrow:hover:before {color: black;}#sk-container-id-4 div.sk-estimator:hover label.sk-toggleable__label-arrow:before {color: black;}#sk-container-id-4 div.sk-toggleable__content {max-height: 0;max-width: 0;overflow: hidden;text-align: left;background-color: #f0f8ff;}#sk-container-id-4 div.sk-toggleable__content pre {margin: 0.2em;color: black;border-radius: 0.25em;background-color: #f0f8ff;}#sk-container-id-4 input.sk-toggleable__control:checked~div.sk-toggleable__content {max-height: 200px;max-width: 100%;overflow: auto;}#sk-container-id-4 input.sk-toggleable__control:checked~label.sk-toggleable__label-arrow:before {content: \"▾\";}#sk-container-id-4 div.sk-estimator input.sk-toggleable__control:checked~label.sk-toggleable__label {background-color: #d4ebff;}#sk-container-id-4 div.sk-label input.sk-toggleable__control:checked~label.sk-toggleable__label {background-color: #d4ebff;}#sk-container-id-4 input.sk-hidden--visually {border: 0;clip: rect(1px 1px 1px 1px);clip: rect(1px, 1px, 1px, 1px);height: 1px;margin: -1px;overflow: hidden;padding: 0;position: absolute;width: 1px;}#sk-container-id-4 div.sk-estimator {font-family: monospace;background-color: #f0f8ff;border: 1px dotted black;border-radius: 0.25em;box-sizing: border-box;margin-bottom: 0.5em;}#sk-container-id-4 div.sk-estimator:hover {background-color: #d4ebff;}#sk-container-id-4 div.sk-parallel-item::after {content: \"\";width: 100%;border-bottom: 1px solid gray;flex-grow: 1;}#sk-container-id-4 div.sk-label:hover label.sk-toggleable__label {background-color: #d4ebff;}#sk-container-id-4 div.sk-serial::before {content: \"\";position: absolute;border-left: 1px solid gray;box-sizing: border-box;top: 0;bottom: 0;left: 50%;z-index: 0;}#sk-container-id-4 div.sk-serial {display: flex;flex-direction: column;align-items: center;background-color: white;padding-right: 0.2em;padding-left: 0.2em;position: relative;}#sk-container-id-4 div.sk-item {position: relative;z-index: 1;}#sk-container-id-4 div.sk-parallel {display: flex;align-items: stretch;justify-content: center;background-color: white;position: relative;}#sk-container-id-4 div.sk-item::before, #sk-container-id-4 div.sk-parallel-item::before {content: \"\";position: absolute;border-left: 1px solid gray;box-sizing: border-box;top: 0;bottom: 0;left: 50%;z-index: -1;}#sk-container-id-4 div.sk-parallel-item {display: flex;flex-direction: column;z-index: 1;position: relative;background-color: white;}#sk-container-id-4 div.sk-parallel-item:first-child::after {align-self: flex-end;width: 50%;}#sk-container-id-4 div.sk-parallel-item:last-child::after {align-self: flex-start;width: 50%;}#sk-container-id-4 div.sk-parallel-item:only-child::after {width: 0;}#sk-container-id-4 div.sk-dashed-wrapped {border: 1px dashed gray;margin: 0 0.4em 0.5em 0.4em;box-sizing: border-box;padding-bottom: 0.4em;background-color: white;}#sk-container-id-4 div.sk-label label {font-family: monospace;font-weight: bold;display: inline-block;line-height: 1.2em;}#sk-container-id-4 div.sk-label-container {text-align: center;}#sk-container-id-4 div.sk-container {/* jupyter's `normalize.less` sets `[hidden] { display: none; }` but bootstrap.min.css set `[hidden] { display: none !important; }` so we also need the `!important` here to be able to override the default hidden behavior on the sphinx rendered scikit-learn.org. See: https://github.com/scikit-learn/scikit-learn/issues/21755 */display: inline-block !important;position: relative;}#sk-container-id-4 div.sk-text-repr-fallback {display: none;}</style><div id=\"sk-container-id-4\" class=\"sk-top-container\"><div class=\"sk-text-repr-fallback\"><pre>GridSearchCV(cv=6, estimator=KNeighborsClassifier(),\n             param_grid={&#x27;n_neighbors&#x27;: range(10, 50, 5), &#x27;p&#x27;: [1, 2],\n                         &#x27;weights&#x27;: [&#x27;uniform&#x27;, &#x27;distance&#x27;]},\n             verbose=4)</pre><b>In a Jupyter environment, please rerun this cell to show the HTML representation or trust the notebook. <br />On GitHub, the HTML representation is unable to render, please try loading this page with nbviewer.org.</b></div><div class=\"sk-container\" hidden><div class=\"sk-item sk-dashed-wrapped\"><div class=\"sk-label-container\"><div class=\"sk-label sk-toggleable\"><input class=\"sk-toggleable__control sk-hidden--visually\" id=\"sk-estimator-id-6\" type=\"checkbox\" ><label for=\"sk-estimator-id-6\" class=\"sk-toggleable__label sk-toggleable__label-arrow\">GridSearchCV</label><div class=\"sk-toggleable__content\"><pre>GridSearchCV(cv=6, estimator=KNeighborsClassifier(),\n             param_grid={&#x27;n_neighbors&#x27;: range(10, 50, 5), &#x27;p&#x27;: [1, 2],\n                         &#x27;weights&#x27;: [&#x27;uniform&#x27;, &#x27;distance&#x27;]},\n             verbose=4)</pre></div></div></div><div class=\"sk-parallel\"><div class=\"sk-parallel-item\"><div class=\"sk-item\"><div class=\"sk-label-container\"><div class=\"sk-label sk-toggleable\"><input class=\"sk-toggleable__control sk-hidden--visually\" id=\"sk-estimator-id-7\" type=\"checkbox\" ><label for=\"sk-estimator-id-7\" class=\"sk-toggleable__label sk-toggleable__label-arrow\">estimator: KNeighborsClassifier</label><div class=\"sk-toggleable__content\"><pre>KNeighborsClassifier()</pre></div></div></div><div class=\"sk-serial\"><div class=\"sk-item\"><div class=\"sk-estimator sk-toggleable\"><input class=\"sk-toggleable__control sk-hidden--visually\" id=\"sk-estimator-id-8\" type=\"checkbox\" ><label for=\"sk-estimator-id-8\" class=\"sk-toggleable__label sk-toggleable__label-arrow\">KNeighborsClassifier</label><div class=\"sk-toggleable__content\"><pre>KNeighborsClassifier()</pre></div></div></div></div></div></div></div></div></div></div>"
     },
     "execution_count": 9,
     "metadata": {},
     "output_type": "execute_result"
    }
   ],
   "source": [
    "# Podesavanje hiper parameteara\n",
    "from sklearn.model_selection import GridSearchCV\n",
    "\n",
    "params_grid = {\n",
    "    'n_neighbors': range(10, 50, 5),\n",
    "    'weights': ['uniform', 'distance'],\n",
    "    'p': [1, 2],\n",
    "}\n",
    "\n",
    "gscv = GridSearchCV(KNeighborsClassifier(), params_grid, cv=6, verbose=4)\n",
    "gscv.fit(X_train, np.ravel(y_train))"
   ],
   "metadata": {
    "collapsed": false,
    "ExecuteTime": {
     "end_time": "2023-08-29T17:16:18.207923Z",
     "start_time": "2023-08-29T17:16:17.160174Z"
    }
   },
   "id": "6c79eddf0fbaf550"
  },
  {
   "cell_type": "code",
   "execution_count": 10,
   "outputs": [
    {
     "data": {
      "text/plain": "{'n_neighbors': 20, 'p': 1, 'weights': 'distance'}"
     },
     "execution_count": 10,
     "metadata": {},
     "output_type": "execute_result"
    }
   ],
   "source": [
    "gscv.best_params_"
   ],
   "metadata": {
    "collapsed": false,
    "ExecuteTime": {
     "end_time": "2023-08-29T17:16:30.511159Z",
     "start_time": "2023-08-29T17:16:30.500806Z"
    }
   },
   "id": "f8996ba058ad92d2"
  },
  {
   "cell_type": "code",
   "execution_count": 11,
   "outputs": [
    {
     "data": {
      "text/plain": "0.6567254652361035"
     },
     "execution_count": 11,
     "metadata": {},
     "output_type": "execute_result"
    }
   ],
   "source": [
    "gscv.best_score_"
   ],
   "metadata": {
    "collapsed": false,
    "ExecuteTime": {
     "end_time": "2023-08-29T17:16:38.068204Z",
     "start_time": "2023-08-29T17:16:38.060955Z"
    }
   },
   "id": "4af5265bc3bd113"
  },
  {
   "cell_type": "code",
   "execution_count": 12,
   "outputs": [],
   "source": [
    "y_gscv = gscv.predict(X_test)"
   ],
   "metadata": {
    "collapsed": false,
    "ExecuteTime": {
     "end_time": "2023-08-29T17:17:16.150033Z",
     "start_time": "2023-08-29T17:17:16.131950Z"
    }
   },
   "id": "f9bcfc8598b6fd98"
  },
  {
   "cell_type": "code",
   "execution_count": 13,
   "outputs": [
    {
     "name": "stdout",
     "output_type": "stream",
     "text": [
      "Tačnost: 0.6506622516556292\n",
      "Izvestaj:\n",
      "              precision    recall  f1-score   support\n",
      "\n",
      "           0       0.65      0.90      0.75       360\n",
      "           1       0.66      0.28      0.40       244\n",
      "\n",
      "    accuracy                           0.65       604\n",
      "   macro avg       0.65      0.59      0.57       604\n",
      "weighted avg       0.65      0.65      0.61       604\n",
      "\n",
      "Matrica konfuzije:\n",
      "     0   1\n",
      "0  324  36\n",
      "1  175  69\n"
     ]
    }
   ],
   "source": [
    "report(y_test, y_gscv)"
   ],
   "metadata": {
    "collapsed": false,
    "ExecuteTime": {
     "end_time": "2023-08-29T17:17:24.667768Z",
     "start_time": "2023-08-29T17:17:24.660289Z"
    }
   },
   "id": "640d6b2010fb1356"
  },
  {
   "cell_type": "code",
   "execution_count": 15,
   "outputs": [
    {
     "name": "stdout",
     "output_type": "stream",
     "text": [
      "Tačnost: 0.6456953642384106\n",
      "Izvestaj:\n",
      "              precision    recall  f1-score   support\n",
      "\n",
      "           0       0.67      0.80      0.73       360\n",
      "           1       0.59      0.41      0.49       244\n",
      "\n",
      "    accuracy                           0.65       604\n",
      "   macro avg       0.63      0.61      0.61       604\n",
      "weighted avg       0.64      0.65      0.63       604\n",
      "\n",
      "Matrica konfuzije:\n",
      "     0    1\n",
      "0  289   71\n",
      "1  143  101\n"
     ]
    }
   ],
   "source": [
    "# Ansambli\n",
    "from sklearn.ensemble import BaggingClassifier\n",
    "\n",
    "baggingKnn = BaggingClassifier(estimator=KNeighborsClassifier(), n_estimators=20)\n",
    "baggingKnn.fit(X_train, np.ravel(y_train))\n",
    "\n",
    "y_bknn = baggingKnn.predict(X_test)\n",
    "report(y_test, y_bknn)    "
   ],
   "metadata": {
    "collapsed": false,
    "ExecuteTime": {
     "end_time": "2023-08-29T17:18:49.251146Z",
     "start_time": "2023-08-29T17:18:49.108102Z"
    }
   },
   "id": "eef582225fc6ab78"
  },
  {
   "cell_type": "code",
   "execution_count": 16,
   "outputs": [
    {
     "data": {
      "text/plain": "<Figure size 640x480 with 1 Axes>",
      "image/png": "[encoded data removed]"
     },
     "metadata": {},
     "output_type": "display_data"
    }
   ],
   "source": [
    "# Poredjenje\n",
    "from helpers import print_roc_curve\n",
    "\n",
    "models = {\n",
    "    'K Nearest Neighbours': knn,\n",
    "    'Grid Search CV': gscv,\n",
    "    'Ensemble': baggingKnn,\n",
    "}\n",
    "\n",
    "print_roc_curve(models, X_test, y_test)"
   ],
   "metadata": {
    "collapsed": false,
    "ExecuteTime": {
     "end_time": "2023-08-29T17:20:04.700771Z",
     "start_time": "2023-08-29T17:20:04.426861Z"
    }
   },
   "id": "35b81b5ea83cb328"
  },
  {
   "cell_type": "code",
   "execution_count": null,
   "outputs": [],
   "source": [],
   "metadata": {
    "collapsed": false
   },
   "id": "9aad2ac96fb2b780"
  }
 ],
 "metadata": {
  "kernelspec": {
   "display_name": "Python 3",
   "language": "python",
   "name": "python3"
  },
  "language_info": {
   "codemirror_mode": {
    "name": "ipython",
    "version": 2
   },
   "file_extension": ".py",
   "mimetype": "text/x-python",
   "name": "python",
   "nbconvert_exporter": "python",
   "pygments_lexer": "ipython2",
   "version": "2.7.6"
  }
 },
 "nbformat": 4,
 "nbformat_minor": 5
}
